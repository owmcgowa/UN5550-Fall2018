{
 "cells": [
  {
   "cell_type": "markdown",
   "metadata": {},
   "source": [
    ">>> # Inferential Statistics (Chapter 4)\n",
    "\n",
    "In tuesday's class you had learnt about how to infer parameters of, and draw conclusions about a population using a statistic (number/property describing a characteristic of a sample). \n",
    "Further, there were examples of wine-data which provided information about:\n",
    "* Understanding sampling distributions\n",
    "* Method 1: Point estimates\n",
    "* Method 2: Confidence intervals\n",
    "* Method 3: Hypothesis testing\n",
    "\n",
    "In this lab session, we will look into the following\n",
    "* Excercise importing function for files of .txt, .xlsx, .csv \n",
    "* Demostration of Central Limit Theorem.\n",
    "* Confidence Intervals. \n",
    "* t-distributions and stats packages. \n",
    "\n",
    "In some point, we will make use of random numbers as data and/or wine-data. \n",
    "Please also download, the week-03 jupyter notebook file, there are explanation that might be necessary to get insightful."
   ]
  },
  {
   "cell_type": "code",
   "execution_count": null,
   "metadata": {
    "collapsed": true
   },
   "outputs": [],
   "source": [
    "import pandas as pd\n",
    "import numpy as np\n",
    "import matplotlib.pylab as plt\n",
    "\n",
    "''' we will be using seaborn , scipy stat norm '''\n",
    "import seaborn as sns\n",
    "from scipy import stats\n",
    "from scipy.stats import norm, t\n",
    "%matplotlib inline"
   ]
  },
  {
   "cell_type": "markdown",
   "metadata": {},
   "source": [
    "# Importing the datafiles \n",
    "\n",
    "For importing the files as with multiple sheet in excel workbook. In Python 3.0, could use pd.read_excel().\n",
    "\n",
    "for example, If workbook.xlsx has sheets 'Sheet1' and 'Sheet2', then use pd.read_excel('workbook.xlsx', 'Sheet1') or  ('workbook.xlsx', 'Sheet2'). \n",
    "\n",
    "* Now, try importing csv file present inside the zip file named-'avocado' directly (make use of 'zipfile').\n",
    "* https://docs.python.org/3/library/zipfile.html\n"
   ]
  },
  {
   "cell_type": "code",
   "execution_count": null,
   "metadata": {
    "collapsed": true
   },
   "outputs": [],
   "source": [
    "# url  =  \"https://archive.ics.uci.edu/ml/machine-learning-databases/wine-quality/winequality-red.csv\"\n",
    "# wine = pd.read_csv(url, sep=\";\")\n",
    "\n",
    "\n",
    "# try importing the csv file from the compressed zip file.\n",
    "\n",
    "\n",
    "\n"
   ]
  },
  {
   "cell_type": "code",
   "execution_count": null,
   "metadata": {
    "collapsed": true
   },
   "outputs": [],
   "source": [
    "# Get to know your system versions\n",
    "import sys\n",
    "print ('Python version:', sys.version, '\\n')\n",
    "print ('Pandas version:', np.__version__ , '\\n')"
   ]
  },
  {
   "cell_type": "markdown",
   "metadata": {},
   "source": [
    "# Inferential Statistics"
   ]
  },
  {
   "cell_type": "markdown",
   "metadata": {},
   "source": [
    "The below piece of code is adapted from week-03 class material. Histogram function is invoked for sampled mean (with 5 random samples taken around 1000 times and mean was computed for it and stored in an array). \n",
    "\n",
    "Observe the distribution of the mean samples - is it normal, uniform, gamma, beta ..... ?"
   ]
  },
  {
   "cell_type": "code",
   "execution_count": null,
   "metadata": {
    "collapsed": true
   },
   "outputs": [],
   "source": [
    "''' In this cell, try to sample mean as we did for wine ['ph'] data in week03. Take sampled mean and plot a histogram. Feel free to use\n",
    "example code provided by Ben in class work '''\n",
    "\n",
    "\n",
    "'''The piece of code from week 03 provided in above problems or in week03, it needs to compute the mean for \n",
    "N-test times the samples of random 'n' and store as an array in means[i]'''''' In this cell, try to sample mean as we did for wine ['ph'] data in week03. Take sampled mean and plot a histogram. Feel free to use\n",
    "example code provided by Ben in class work '''\n",
    "\n",
    "\n",
    "'''The piece of code from week 03 provided in above problems or in week03, it needs to compute the mean for \n",
    "N-test times the samples of random 'n' and store as an array in means[i]'''\n",
    "\n",
    "mu = wine[\"pH\"].mean()\n",
    "print(\"mean pH, mu = \" + str(mu))\n",
    "\n",
    "N_tests = 1000\n",
    "n = 5 \n",
    "means = [0] * N_tests\n",
    "\n",
    "for i in range(N_tests):\n",
    "    observations = np.random.choice(wine.index.values,n)\n",
    "    sampled_wines = wine.loc[observations]\n",
    "    means[i] = sampled_wines[\"pH\"].mean()\n",
    "    \n",
    "    \n",
    "nbins = 10\n",
    "_ = plt.hist(means, nbins, color= 'red' )\n",
    "plt.title(' Histogram for sampled mean of pH')\n",
    "\n",
    "# # https://seaborn.pydata.org/generated/seaborn.distplot.html?highlight=distplot#seaborn.distplot\n",
    "\n",
    "sns.set_style('whitegrid')\n",
    "sns.set_style('ticks')\n",
    "fig, ax = plt.subplots()\n",
    "fig.set_size_inches(10, 6)\n",
    "sns.distplot(means, bins=nbins, color ='red')\n",
    "plt.title('Histogram for sampled mean of wine[ph] distribution')"
   ]
  },
  {
   "cell_type": "markdown",
   "metadata": {},
   "source": [
    "### From Chap 4, we had a chance to look into CLT (Center Limit Theorem). The initial population distribution was not observed in the class and the mean sampled distribution i.e., mean of wine['pH'], evidently displayed normal distribution (see the plots above).\n",
    "\n",
    "## 1. Check what was the distribution of the initial population ? Observe using Histogram and discuss."
   ]
  },
  {
   "cell_type": "code",
   "execution_count": null,
   "metadata": {
    "collapsed": true
   },
   "outputs": [],
   "source": [
    "# Plot the distribution of the population itself i.e., wine['pH']. What kind of distribution are they\n",
    "\n",
    "\n",
    "\n",
    "\n",
    "\n",
    "\n",
    "\n",
    "\n",
    "\n",
    "\n",
    "#"
   ]
  },
  {
   "cell_type": "markdown",
   "metadata": {},
   "source": [
    "The initial population distribution is observed to also be normal distribution plot. We might expect that the sampled mean could be normal distribution. What if we try with different population distribution using random generator available in python library and observe the profile. Does it agree with CLT ??\n",
    "\n"
   ]
  },
  {
   "cell_type": "markdown",
   "metadata": {},
   "source": [
    "# What if the initial population is other than normal distribution. Would CLT come into picture? Under what scenarios does CLT property is very evident in the sampled mean?\n",
    "\n",
    "\n",
    "\n",
    "# 2. Test with Uniform distribution in the initial population\n",
    "\n",
    "### For options regarding random numbers generation in certain distribution pattern, see the link:\n",
    "### https://docs.scipy.org/doc/numpy-1.14.0/reference/routines.random.html"
   ]
  },
  {
   "cell_type": "code",
   "execution_count": null,
   "metadata": {
    "collapsed": true
   },
   "outputs": [],
   "source": [
    "# try with uniform distribution function aswell.\n",
    "\n",
    "# Create a series pandas dataform. donot forget to use pandas.series()\n",
    "s = \n",
    "\n",
    "\n",
    "\n",
    "\n",
    "\n",
    "\n",
    "# Use similar approach to plot a histogram for the initial population\n",
    "\n",
    "\n",
    "\n",
    "\n",
    "\n",
    "\n",
    "\n"
   ]
  },
  {
   "cell_type": "code",
   "execution_count": null,
   "metadata": {
    "collapsed": true
   },
   "outputs": [],
   "source": [
    "''' In this cell, try to sample mean as we did for wine ['ph'] data in week03. Take sampled mean \n",
    "for uniformly distributed dataset and plot a histogram. Feel free to use\n",
    "example code provided by Ben in class work '''\n",
    "\n",
    "\n",
    "\n",
    "'''The piece of code from week 03 provided in above problems or in week03, it needs to compute the mean for \n",
    "N-test times the samples of random 'n' and store as an array in means[i]'''\n",
    "\n",
    "\n",
    "\n",
    "\n",
    "''' ******************* for simplicity, the code is copied here. Modify to get the sampled mean of the \n",
    "uniformally distributed sampled population *****************************'''\n",
    "\n",
    "\n",
    "mu = \n",
    "\n",
    "\n",
    "print(\"mean pH, mu = \" + str(mu))\n",
    "\n",
    "N_tests = 1000\n",
    "n = 5 \n",
    "means = [0] * N_tests\n",
    "\n",
    "for i in range(N_tests):\n",
    "    observations = np.random.choice(wine.index.values,n)\n",
    "    sampled_wines = wine.loc[observations]\n",
    "    means[i] = sampled_wines[\"pH\"].mean()\n",
    "    \n",
    "    \n",
    "nbins = 10\n",
    "_ = plt.hist(means, nbins, color= 'red' )\n",
    "plt.title(' Histogram for sampled mean of pH')\n",
    "\n",
    "\n",
    "\n",
    "\n",
    "# # https://seaborn.pydata.org/generated/seaborn.distplot.html?highlight=distplot#seaborn.distplot\n",
    "sns.set_style('whitegrid')\n",
    "sns.set_style('ticks')\n",
    "fig, ax = plt.subplots()\n",
    "fig.set_size_inches(10, 6)\n",
    "\n",
    "\n",
    "sns.distplot(means, bins=nbins, color ='red')\n",
    "plt.title('Histogram for sampled mean of ******** distribution')\n"
   ]
  },
  {
   "cell_type": "markdown",
   "metadata": {},
   "source": [
    "### Once the code is up and running. Test the following for better understanding. \n",
    " * How is plot sensitive for 'n' - no of samples drawn from population.\n",
    " * How is the profile when 'N_test' - is increased or decreased."
   ]
  },
  {
   "cell_type": "markdown",
   "metadata": {},
   "source": [
    "# 3. Gamma and wald distribution in initial population\n",
    "\n",
    "### Check if CLT agrees here too? \n",
    "\n",
    "### Please read through Chap 4 for more information\n"
   ]
  },
  {
   "cell_type": "code",
   "execution_count": null,
   "metadata": {
    "collapsed": true
   },
   "outputs": [],
   "source": [
    "''' Perform the similar operation by testing on the different distribution such as gamma, wald and many more. refer to the link \n",
    "provided earlier to generate the initial samples'''\n",
    "\n",
    "# To try Wald distribution function\n",
    "# np.random.wald\n",
    "\n",
    "\n",
    "# To try Gamma distribution function\n",
    "# np.random.gamma\n",
    "\n",
    "\n",
    "s =  pd.Series()\n",
    "\n",
    "\n",
    "\n",
    "\n",
    "\n",
    "\n",
    "\n",
    "\n",
    "\n",
    "\n",
    "\n",
    "\n",
    "\n",
    "\n",
    "\n",
    "\n",
    "\n",
    "\n",
    "\n",
    "\n",
    "\n",
    "\n",
    "#"
   ]
  },
  {
   "cell_type": "markdown",
   "metadata": {},
   "source": [
    "# Measuring the Variability of Estimates"
   ]
  },
  {
   "cell_type": "markdown",
   "metadata": {},
   "source": [
    "## Since, both the uniform and other distribution in population resulted in the normal (Gaussian) distribution type in the sampled mean. Now, Method-1 (point estimates) and Method 2 (Confidence Interval) can be applied.  \n",
    "\n",
    "## 3. Refer to section 4.3.1 and 4.3.2 in the textbook and from class week03 notebook. Explain in words (in the below Markdown cell), what really is Confidence Interval ? What does it mean 95% C.I ? "
   ]
  },
  {
   "cell_type": "markdown",
   "metadata": {},
   "source": [
    "**Answer here: **\n",
    "    \n",
    "    #\n",
    "    \n",
    "    \n",
    "    \n",
    "    \n",
    "    \n",
    "    \n",
    "    \n",
    "    \n",
    "    \n",
    "    \n",
    "    \n",
    "    \n",
    "    \n",
    "    \n",
    "    \n",
    "    ."
   ]
  },
  {
   "cell_type": "markdown",
   "metadata": {},
   "source": [
    "# CI in action\n",
    "### Statistical package \n",
    "\n",
    "\n",
    "## 4.Spend some time in https://docs.scipy.org/doc/scipy/reference/stats.html\n",
    "\n",
    "* Below piece of code is replicated from week03. Have a look into the calculation of Confidence Intervals. What happens when confidence level is changed? to 90% --> 95% --> 99% --> 99.9 %.\n",
    "\n",
    "* Check with different no of samples. \n",
    "* check what happens if the no. of N-test is increased. \n",
    "\n",
    "Read: 4.3.2 in textbook"
   ]
  },
  {
   "cell_type": "code",
   "execution_count": null,
   "metadata": {
    "collapsed": true
   },
   "outputs": [],
   "source": [
    "''' observe the output plot while changing the Confidence level, no of samples and no of times the test is performed '''\n",
    "\n",
    "xbar = wine[\"pH\"].mean()\n",
    "sigma = wine[\"pH\"].std()\n",
    "\n",
    "\n",
    "alpha = 0.01\n",
    "\n",
    "\n",
    "z_alphadiv2 = norm.ppf(1-alpha/2)\n",
    "confidence = norm.cdf(z_alphadiv2)-norm.cdf(-z_alphadiv2)\n",
    "ci = [xbar - sigma*z_alphadiv2, xbar + sigma*z_alphadiv2 ]\n",
    "print (\"We are\", round (confidence,5) , \"% confident that the interval = \",  ci,  \"contains the mean.\")\n",
    "\n",
    "N_test = 100\n",
    "n = 35\n",
    "\n",
    "means = np.array([0.0] * N_test)   # initialize list for means\n",
    "sigma = np.array([0.0] * N_test)   # initialize list for standard deviation\n",
    "ci = np.array([[0.0,0.0]] * N_test)  # initialize list for confidence intervals\n",
    "mu = wine[\"pH\"].mean()  # true mean\n",
    "for i in range(N_test):\n",
    "    observations = np.random.choice(wine.index.values,n)\n",
    "    sampled_wines = wine.loc[observations]\n",
    "    means[i] = sampled_wines[\"pH\"].mean()\n",
    "    sigma[i] = sampled_wines[\"pH\"].std()\n",
    "    ci[i] = means[i] + np.array([-sigma[i] * z_alphadiv2/np.sqrt(n), sigma[i]*z_alphadiv2/np.sqrt(n)])\n",
    "\n",
    "out1 = ci[:,0] > mu # flag CI that do not contain the \"true\" mean\n",
    "out2 = ci[:,1] < mu # flag CI that do not contain the \"true\" mean\n",
    "\n",
    "\n",
    "fig, ax = plt.subplots(1, 1, figsize=(12, 5))\n",
    "ind = np.arange(1, N_test+1)\n",
    "ax.axhline(y = mu, \n",
    "           xmin = 0, \n",
    "           xmax = N_test+1, \n",
    "           color = [0, 0, 0])\n",
    "\n",
    "ci = np.transpose(ci)\n",
    "ax.plot([ind,ind], \n",
    "        ci, \n",
    "        color = '0.75', \n",
    "        marker = '_', \n",
    "        ms = 0, \n",
    "        linewidth = 3)\n",
    "ax.plot([ind[out1],ind[out1]], \n",
    "        ci[:, out1], \n",
    "        color = [1, 0, 0, 0.8], \n",
    "        marker = '_', \n",
    "        ms = 0, \n",
    "        linewidth = 3)\n",
    "ax.plot([ind[out2],ind[out2]], \n",
    "        ci[:, out2], \n",
    "        color = [1, 0, 0, 0.8], \n",
    "        marker = '_',\n",
    "        ms = 0, \n",
    "        linewidth = 3)\n",
    "ax.plot(ind, \n",
    "        means, \n",
    "        color = [0, .8, .2, .8], \n",
    "        marker = '.',\n",
    "        ms = 10, \n",
    "        linestyle = '')\n",
    "ax.set_ylabel(\"Confidence interval for the samples' mean estimate\",\n",
    "              fontsize = 12)\n",
    "ax.set_xlabel('Samples (with %d observations). '  %n, \n",
    "              fontsize = 12)\n",
    "n = plt.show()"
   ]
  },
  {
   "cell_type": "markdown",
   "metadata": {},
   "source": [
    "## 5.a. Now assume that only the good quality wine is distilled at one of the brewing center. It is known to contain pH greater than and equal to 3.5. The sampled mean by one of the quality inspector was 3.56 for a batch of 15. What is the 95% CI for mean "
   ]
  },
  {
   "cell_type": "code",
   "execution_count": null,
   "metadata": {
    "collapsed": true
   },
   "outputs": [],
   "source": [
    "n =                   \n",
    "alpha = \n",
    "Xbar = \n",
    "\n",
    "# refining data forhigher quality wines with pH >= 3.5 \n",
    "highquality = \n",
    "\n",
    "\n",
    "sigma = highquality['pH'].std()\n",
    "\n",
    "\n",
    "\n",
    "\n",
    "observations = np.random.choice(highquality.index.values, 15)\n",
    "sampled_observations = highquality.loc[observations]\n",
    "\n",
    "mu = sampled_observations['pH'].mean()\n",
    "sigma = sampled_observations['pH'].std()\n",
    "print ('The mean is :', mu, '& the Std deviation is:', sigma)\n",
    "\n",
    "\n",
    "# standard error computation\n",
    "se = sigma/np.sqrt(n)\n",
    "z_alphadiv2 = norm.ppf(1-alpha/2)\n",
    "confidence = norm.cdf(z_alphadiv2)-norm.cdf(-z_alphadiv2)\n",
    "CI = [Xbar - se*z_alphadiv2,Xbar + se*z_alphadiv2 ]\n",
    "\n",
    "\n",
    "print 'we are', round(100*confidence,3), \"confident that the interval = \", CI , \"contains the mean.\"\n"
   ]
  },
  {
   "cell_type": "markdown",
   "metadata": {},
   "source": [
    "## 5.b Using Stats.norm.interval(), CI can be computed. Use this function to compute the 95% CI for mean of 3.56 (batch of 15). "
   ]
  },
  {
   "cell_type": "code",
   "execution_count": null,
   "metadata": {
    "collapsed": true
   },
   "outputs": [],
   "source": [
    "CIs = \n",
    "\n",
    "\n",
    "\n",
    "\n",
    "\n",
    "print ('we are', round(100*0.95, 3), '%', \"confident that the interval = \", CI , \"contains the mean.\")\n",
    "\n",
    "# Both cell should have exact solution for CI. If not, check for data error."
   ]
  },
  {
   "cell_type": "markdown",
   "metadata": {},
   "source": [
    ".\n"
   ]
  },
  {
   "cell_type": "markdown",
   "metadata": {},
   "source": [
    "## 6.a. If number of samples are less, it is better to perform t-test. \n",
    "\n",
    "Please perform the t-test below"
   ]
  },
  {
   "cell_type": "code",
   "execution_count": null,
   "metadata": {
    "collapsed": true
   },
   "outputs": [],
   "source": [
    "from scipy.stats import t\n",
    "alpha = 0.05\n",
    "xbar = 18.3\n",
    "n = 15\n",
    "dof = n-1\n",
    "se = 5.1/np.sqrt(n)\n",
    "t_alphadiv2 = t.ppf(1-alpha/2,dof)\n",
    "confidence = t.cdf (t_alphadiv2,dof)-t.cdf(-t_alphadiv2, dof)\n",
    "ci = [xbar - se*t_alphadiv2, xbar + se*t_alphadiv2]\n",
    "\n",
    "\n",
    "print 'we are', round(100*(1-alpha), 3), '%', \"confident that the interval = \", ci , \"contains the mean.\"\n"
   ]
  },
  {
   "cell_type": "markdown",
   "metadata": {},
   "source": [
    "# 6.b. we can make a function out of the above code and/or can invoke Stats package from SciPy for the same. Recommended is to get use to stats package.\n",
    "\n",
    "# scipy.stats.t()\n",
    "Apply stats.t.interval function here to obatin the 95% CI, the sigma for this is known to be around 5.1. Xbar is 18.3. degree of freedom is same as above n-1. \n",
    "\n",
    "https://docs.scipy.org/doc/scipy/reference/generated/scipy.stats.t.html"
   ]
  },
  {
   "cell_type": "code",
   "execution_count": null,
   "metadata": {
    "collapsed": true
   },
   "outputs": [],
   "source": [
    "'''Observe the confidence interval using t and stats package. The CI should match with the above. '''\n",
    "\n",
    "CI_t = \n",
    "\n",
    "\n",
    "\n",
    "print ('we are', round(100*0.95, 3), '%', \"confident that the interval = \", CI_t , \"contains the mean.\")\n"
   ]
  },
  {
   "cell_type": "markdown",
   "metadata": {},
   "source": [
    "# 7. Calculating the standard error using scipy.stats.sem()\n",
    "https://docs.scipy.org/doc/scipy-0.14.0/reference/generated/scipy.stats.sem.html\n",
    "\n",
    "Standard error is computed by \\begin{align}\n",
    "S.E = \\frac{\\sigma}{\\sqrt{n}}\n",
    "\\end{align}\n"
   ]
  },
  {
   "cell_type": "code",
   "execution_count": null,
   "metadata": {
    "collapsed": true
   },
   "outputs": [],
   "source": [
    "from scipy import stats\n",
    "alpha = 0.05\n",
    "sigma = sampled_observations['pH'].std()\n",
    "n = 15\n",
    "se = sigma/np.sqrt(n)\n",
    "\n",
    "\n",
    "# Use stats.sem() and store in sef.\n",
    "sef = "
   ]
  },
  {
   "cell_type": "code",
   "execution_count": null,
   "metadata": {
    "collapsed": true
   },
   "outputs": [],
   "source": [
    "print('S.E from sigma and n is: ', se , 'and S.E from stats is also: ', sef)"
   ]
  },
  {
   "cell_type": "markdown",
   "metadata": {},
   "source": [
    "## Now you have worked on stats.normal.interval and stats.t to compute the CI. Try to solve the below questions\n",
    "\n",
    "# 8. The random daily quality check at packaging unit yielded sigma of 2.0 for a samples of 150 batches and the mean was 3.7. Find the 95% confidence interval for distribution of mean."
   ]
  },
  {
   "cell_type": "code",
   "execution_count": null,
   "metadata": {
    "collapsed": true
   },
   "outputs": [],
   "source": [
    "# compute the S.E (standard Error) using the formula explained earlier. \n",
    "\n",
    "# use norm.interval\n",
    "CIs = stats.norm.interval()\n",
    "\n",
    "print ('we are', round(100*0.95, 3), \"confident that the interval = \", CIs , \"contains the mean.\")\n"
   ]
  },
  {
   "cell_type": "markdown",
   "metadata": {},
   "source": [
    "# 9. T-Distribution"
   ]
  },
  {
   "cell_type": "markdown",
   "metadata": {},
   "source": [
    "### How does T-distribution differ from Normal distribution?"
   ]
  },
  {
   "cell_type": "code",
   "execution_count": null,
   "metadata": {
    "collapsed": true
   },
   "outputs": [],
   "source": [
    "#Make your notes here:\n",
    "\n",
    "\n",
    "\n",
    "\n",
    "\n",
    "\n",
    "\n",
    "\n",
    "\n",
    "#"
   ]
  },
  {
   "cell_type": "markdown",
   "metadata": {},
   "source": [
    "# 10.There are various types of distribution available in stats package. Follow the link and prepare a note for your reference in future.\n",
    "\n",
    "\n",
    "## Perform t-test ref: https://docs.scipy.org/doc/scipy/reference/tutorial/stats.html\n",
    "\n",
    "## Simplified Statistical resource: http://greenteapress.com/wp/think-stats-2e/\n",
    "\n",
    "\n",
    "\n",
    "    "
   ]
  },
  {
   "cell_type": "code",
   "execution_count": null,
   "metadata": {
    "collapsed": true
   },
   "outputs": [],
   "source": [
    "# Your Notes here:\n",
    "\n",
    "\n",
    "\n",
    "\n",
    "\n",
    "\n",
    "\n",
    "\n",
    "\n",
    "#"
   ]
  },
  {
   "cell_type": "code",
   "execution_count": null,
   "metadata": {
    "collapsed": true
   },
   "outputs": [],
   "source": [
    "# Observe by changing the degrees of freedom in t and plot on same axis\n",
    "xmin = -10\n",
    "xmax = 10\n",
    "x = np.linspace(xmin,xmax,100)\n",
    "\n",
    "\n",
    "'''Try overplotting with different degrees of freedom '''\n",
    "from scipy.stats import t\n",
    "dof = 1;\n",
    "q = t.pdf(x,dof)\n",
    "_ = plt.plot(x, q, 'b', linewidth = 2,label=\"T, dof=%d\"%(dof))\n",
    "_ = plt.legend()"
   ]
  },
  {
   "cell_type": "markdown",
   "metadata": {},
   "source": [
    "#### Now, if you have time, try to implement what you have learnt in this session to the avacado dataset, we had extracted from zipfile.\n",
    "\n",
    "1. What is the distribution of average price in the dataset.\n",
    "2. Distribution of sampled price ?\n",
    "3. CI for a case."
   ]
  }
 ],
 "metadata": {
  "kernelspec": {
   "display_name": "Python 2",
   "language": "python",
   "name": "python2"
  },
  "language_info": {
   "codemirror_mode": {
    "name": "ipython",
    "version": 2
   },
   "file_extension": ".py",
   "mimetype": "text/x-python",
   "name": "python",
   "nbconvert_exporter": "python",
   "pygments_lexer": "ipython2",
   "version": "2.7.5"
  }
 },
 "nbformat": 4,
 "nbformat_minor": 2
}
