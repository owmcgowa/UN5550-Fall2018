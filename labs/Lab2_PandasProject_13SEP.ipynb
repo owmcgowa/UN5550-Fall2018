{
 "cells": [
  {
   "cell_type": "markdown",
   "metadata": {},
   "source": [
    "\n",
    "## 08/13/2018\n",
    "\n",
    "## Pandas Excercise\n",
    "​\n",
    "Resources:\n",
    "* https://pandas.pydata.org/\n",
    "* https://pandas.pydata.org/pandas-docs/stable/generated/pandas.read_csv.html\n",
    "* https://pandas.pydata.org/pandas-docs/stable/tutorials.html\n",
    "\n",
    "\n",
    "\n",
    "Dataset Repository example:\n",
    "* https://archive.ics.uci.edu/ml/datasets/Auto+MPG\n",
    "* https://archive.ics.uci.edu/ml/index.php\n",
    "* https://archive.ics.uci.edu/ml/datasets/Iris\n",
    "\n",
    "In this project, we will look into Pandas library for data importing(loading), data cleaning, data wrangling and some exploratory data analysis function. The basic plotting and visualization of the data is also aimed for.  "
   ]
  },
  {
   "cell_type": "markdown",
   "metadata": {},
   "source": [
    "** Part-I: Importing the following library - pandas, numpy and matplotlib (pyplot) ** "
   ]
  },
  {
   "cell_type": "code",
   "execution_count": null,
   "metadata": {
    "collapsed": true
   },
   "outputs": [],
   "source": [
    "\n",
    "\n",
    "\n"
   ]
  },
  {
   "cell_type": "markdown",
   "metadata": {},
   "source": [
    "Import the Dataset from repository link: https://archive.ics.uci.edu/ml/machine-learning-databases/auto-mpg/auto-mpg.data\n",
    "\n",
    "Requirements for the import function: \n",
    "1. Function name as \" ImportData() \"\n",
    "2. Column name would have to be : ** ['mpg', 'cylinders', 'displacement','horsepower','weight', 'acceleration', 'model year', 'origin','car name']. **\n",
    "3. Set the dataframe index (i.e., row labels) to 'car name' which is the last column in dataset.\n",
    "4. Importing function in pandas to be used here are read_csv() or read_table().\n",
    "\n",
    "Helpful links: \n",
    "\n",
    "* https://pandas.pydata.org/pandas-docs/stable/generated/pandas.read_csv.html#pandas.read_csv\n",
    "* https://pandas.pydata.org/pandas-docs/stable/generated/pandas.read_table.html#pandas.read_table\n",
    "\n"
   ]
  },
  {
   "cell_type": "code",
   "execution_count": null,
   "metadata": {
    "collapsed": true
   },
   "outputs": [],
   "source": [
    "# Create function name \" ImportData() \" here,  to import dataset, handle columns and set the column index to car name  \n",
    "# and return the data.\n",
    "\n",
    "\n",
    "def ImportData(filename):   \n",
    "    \n",
    "\n",
    "\n",
    "    \n",
    "    \n",
    "    \n",
    "    \n",
    "    \n",
    "    \n",
    "    \n",
    "    \n",
    "#     df is the imported dataframe from the repository. The last column in the data is car name and this needs to be \n",
    "    \n",
    "    return df\n",
    "\n",
    "\n",
    "\n",
    "\n",
    "filename = #'link from repository or the CSV file from your local drive'    \n",
    "\n",
    "data = ImportData(filename)\n",
    "print(data.head())\n",
    "print(data.index)"
   ]
  },
  {
   "cell_type": "code",
   "execution_count": null,
   "metadata": {
    "collapsed": true
   },
   "outputs": [],
   "source": [
    "# Print the data types for the dataframe imported. Observe each columns.\n",
    "\n",
    "\n",
    "\n",
    "\n",
    "\n",
    "\n"
   ]
  },
  {
   "cell_type": "markdown",
   "metadata": {},
   "source": [
    "**Part II: Data Cleaning** of column indices with car names. Goal of the function \"ColDataClean()\" is to handle any missing data and also to process the data to produce a character without any spaces in between, for ex: **chevrolet chevelle malibu**. \n",
    "The function has to \n",
    "1. Named as ColDataClean()\n",
    "2. Look for any Null/Na entries in the dataframe and delete them.\n",
    "3. Columns labels (headers) are all smaller case (lower), change it to sentence case. following which, replace \"space\" in the string with the underscore '_'.\n",
    "4. Print all the column index name that has space in between. use *.str.contains()*\n",
    "5. Repeat (3) for index column aswell."
   ]
  },
  {
   "cell_type": "code",
   "execution_count": null,
   "metadata": {
    "collapsed": true
   },
   "outputs": [],
   "source": [
    "def ColDataClean(data):\n",
    "    \n",
    "    # handle Null type entry below\n",
    "    print (' ****** Printing any Null entries if any **********')\n",
    "    print ()                                   # hint: use isnull().any\n",
    "    \n",
    "    \n",
    "        \n",
    "        \n",
    "      \n",
    "    \n",
    "                            # Drop complete row and also column if all the values are NA\n",
    "    \n",
    "   \n",
    "\n",
    "\n",
    "\n",
    "    \n",
    "    print (' ---------------------Performing String operations on Column head---------------------------')    \n",
    "    # Handling/cleaning the headers \n",
    "    print('Before:', data.columns)\n",
    "    \n",
    "    # 1. Change the case of the column names \n",
    "    \n",
    "\n",
    "    # 2. the code here must replace the space with '_'\n",
    "\n",
    "\n",
    "\n",
    "    print('After: ', data.columns)\n",
    "    \n",
    "    \n",
    "    \n",
    "    \n",
    "    print (' ----------- Performing String operations on dataframe index i.e., car name ---------------')   \n",
    "    \n",
    "    # Handling/cleaning the COLUMN INDEX (str.replace () ) \n",
    "    print('Before: ', ) # Prints all the index that has column names with space in it\n",
    "    \n",
    "    \n",
    "    # 1. Change the case of the index names to sentence case\n",
    "    \n",
    "\n",
    "    # 2. the code here must replace the space with '_'\n",
    "\n",
    "    \n",
    "      \n",
    "    \n",
    "    \n",
    "    print('After: ', )\n",
    "    \n",
    "    \n",
    "    \n",
    "    return data\n",
    "\n",
    "\n"
   ]
  },
  {
   "cell_type": "code",
   "execution_count": null,
   "metadata": {
    "collapsed": true
   },
   "outputs": [],
   "source": [
    "data = ColDataClean(data)\n",
    "data.head()\n",
    "data.dtypes"
   ]
  },
  {
   "cell_type": "markdown",
   "metadata": {},
   "source": [
    "**Part III: Data Cleaning/Manipulation - Handling special characters in the dataset **\n",
    "Look at the dtype for the dataframe. The horsepower is considered as object. But this needs to be float type. Follow the comments.\n",
    "Here in this function, handle the NAN and horsepower column data types to respective one. "
   ]
  },
  {
   "cell_type": "code",
   "execution_count": null,
   "metadata": {
    "collapsed": true
   },
   "outputs": [],
   "source": [
    "def HandleHP(df, col):\n",
    "    \n",
    "    if (df[col].dtype == 'object'):  # Changes only if column is an object!\n",
    "        \n",
    "        print('Necessary changes has to be incorporated. !!!')\n",
    "        \n",
    "        # print the data type for horsepower column\n",
    "        print ('The data types for horsepower is :'            ) \n",
    "        \n",
    "        # hint: df[col]=='?' # logical operator, the dataframe looks for string \"?\". The result is a boolean True or False.\n",
    "        \n",
    "        \n",
    "        \n",
    "         # Now, replace the unwanted string '?' in 'Horsepower' column with value 99.0 \n",
    "\n",
    "\n",
    "         # replaced '?' with 99.0 value of horsepower, check the dtype. Changed to float? \n",
    "\n",
    "    \n",
    "    \n",
    "    \n",
    "         # change the dtype of 'Horsepower' now. use .astype function\n",
    "    \n",
    "    \n",
    "    \n",
    "\n",
    "        \n",
    "#         print ('The data types for horsepower is :', df[col].dtype) \n",
    "      \n",
    "    \n",
    "    return df\n",
    "\n",
    "\n",
    "print('Before: \\n ', data.dtypes)\n",
    "\n",
    "HandleHP(data,'Horsepower')\n",
    "\n",
    "print( '\\n ')\n",
    "print('After:\\n ', data.dtypes)"
   ]
  },
  {
   "cell_type": "markdown",
   "metadata": {},
   "source": [
    "** Part IV: Data Aggregation and Grouping   **\n",
    "\n"
   ]
  },
  {
   "cell_type": "code",
   "execution_count": null,
   "metadata": {
    "collapsed": true
   },
   "outputs": [],
   "source": [
    "#  Add new columns in data frame for Kmpl (kilometre per litre) & Kmpg (kilometre per gallon) and use mpg data to \n",
    "# convert to Kmpl (Note: 1 mpg = 0.425144 kmpl) and (1 mpg = 1.609 Kmpg)\n",
    "\n",
    "\n",
    "\n",
    "\n",
    "\n",
    "print (data.head())"
   ]
  },
  {
   "cell_type": "markdown",
   "metadata": {},
   "source": [
    "** Grouping **\n",
    "Before grouping, one of the column in the dataset is origin, add another column to produce a column name **'CountryOrigin'**. Based on the resource info, origin indicates the country code i.e., [1,2,3] = ['USA','Europe', 'Asia']. Use dataframe.replace() for this function.  \n",
    "\n",
    "* Group 1 should consists of Groupby objects of 'Model year' and 'country origin'\n",
    "* Group 2 should contain only 'Country Origin'\n",
    "* Group 3 should contain only 'Model year'\n",
    "* Group 4 should consists of 'County origin' and 'Model year'"
   ]
  },
  {
   "cell_type": "code",
   "execution_count": null,
   "metadata": {
    "collapsed": true
   },
   "outputs": [],
   "source": [
    "#  The Origin indicates the country or the continent where the data is originated. Hence, create another \n",
    "#  column in the data frame that corresponds to the origin let 1 --> USA, 2--> Europe , 3 --> Asia. \n",
    "# Let the country code be stored in the column CountryOrigin.\n",
    "\n",
    "data['CountryOrigin'] = \n",
    "\n",
    "# create groups here\n",
    "\n",
    "Group1 = \n",
    "\n",
    "Group2 = \n",
    "\n",
    "Group3 = \n",
    "\n",
    "Group4 = \n",
    "\n",
    "\n",
    "# print the data from Group 2 and Group 3 using iterating over by For-loop command.\n",
    "\n",
    "# printing group can be done as shown below. \n",
    "# \n",
    "\n",
    "for dtype, group in Group2:\n",
    "    print (dtype)\n",
    "    print('------------')\n",
    "    print (group['Mpg'].head(),'\\n')\n",
    "    \n",
    "    \n",
    "    print('------------')\n",
    "    \n",
    "    \n",
    "    \n",
    "\n"
   ]
  },
  {
   "cell_type": "markdown",
   "metadata": {},
   "source": [
    "** Part V: Data exploration and analysis**\n",
    "\n",
    "Create a function by name ** YearlyMileage() ** and observe the mileage performance over the period of time. Use plotting tools and plots such as line, bar or scatter.\n",
    "Plot attributes such as 'Mpg','Horsepower','Cylinders','Displacement','CountryOrigin' in scatter plot matrix.\n",
    "\n",
    "The function here has to provide the \n",
    "1. Yearly average mileage and produce an appropriate plot (either line or bar whichever is appropriate)\n",
    "2. Edit the properties of the plot to display more user friendly.\n",
    "3. Produce another scatter matrix for attributes such as mpg, horsepower, cylinders, displacement and country origin.\n",
    "4. try the same scatter matrix attributes using seaborn library. \n",
    "5. In all this plots, make sure user understands the data i.e., add title, axis, lables, legends, colors etc.\n"
   ]
  },
  {
   "cell_type": "code",
   "execution_count": null,
   "metadata": {
    "collapsed": true
   },
   "outputs": [],
   "source": [
    "# Calculate mean for all the cars for each year starting from 1970 to 1982. Plot the profile for example use \n",
    "# Bar plot. Please maintain the figsize to atleast 12,6. \n",
    "# The below cell need to present a conclusion of the mpg over the period of 1970-1982. \n",
    "# The relationship between the attributes can be understood by looking into the scatter plot. \n",
    "# Import seaborn \n",
    "\n",
    "\n",
    "# Use Aggregate property of the group 1-3 to produce a mean for yearly data\n",
    "\n",
    "YearMileage = \n",
    "\n",
    "\n",
    "\n",
    "print(YearMileage)\n",
    "\n",
    "\n",
    "\n",
    "# Analyze the result by plotting in either bar or line plot.\n",
    "\n",
    "YearMileage.plot.bar()\n",
    "\n",
    "\n",
    "# Include the property to make it look good."
   ]
  },
  {
   "cell_type": "code",
   "execution_count": null,
   "metadata": {
    "collapsed": true
   },
   "outputs": [],
   "source": [
    "# Scatter Matrix plot is very important for understanding of the dataset and its profile. \n",
    "# But scatter matrix can be done using library from pandas.plotting and importing scatter matrix from it.\n",
    "\n",
    "# Import the required module here:\n",
    "\n",
    "from pandas.plotting import scatter_matrix as sm\n",
    "\n",
    "\n",
    "\n",
    "# Creating a function here to return a well-edited fig\n",
    "\n",
    "\n",
    "def plotscatterMatrix(data):\n",
    "    \n",
    "    \n",
    "    \n",
    "    \n",
    "    \n",
    "    \n",
    "    \n",
    "    \n",
    "    \n",
    "    \n",
    "    return \n",
    "\n",
    "\n",
    "# Function call \n",
    "plotscatterMatrix(data[['Mpg','Horsepower','Cylinders','Displacement','CountryOrigin']])\n",
    "\n",
    "plt.show()"
   ]
  },
  {
   "cell_type": "code",
   "execution_count": null,
   "metadata": {
    "collapsed": true
   },
   "outputs": [],
   "source": [
    "import seaborn as sea\n",
    "\n",
    "sea.set()\n",
    "\n",
    "sea.pairplot(data[['Mpg','Horsepower','Cylinders','Displacement','CountryOrigin']], size = 3.0,hue ='CountryOrigin')\n",
    "\n",
    "plt.show()"
   ]
  }
 ],
 "metadata": {
  "kernelspec": {
   "display_name": "Python 2",
   "language": "python",
   "name": "python2"
  },
  "language_info": {
   "codemirror_mode": {
    "name": "ipython",
    "version": 2
   },
   "file_extension": ".py",
   "mimetype": "text/x-python",
   "name": "python",
   "nbconvert_exporter": "python",
   "pygments_lexer": "ipython2",
   "version": "2.7.5"
  }
 },
 "nbformat": 4,
 "nbformat_minor": 2
}
